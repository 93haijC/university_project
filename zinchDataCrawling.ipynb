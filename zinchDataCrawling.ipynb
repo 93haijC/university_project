{
 "cells": [
  {
   "cell_type": "code",
   "execution_count": 1,
   "metadata": {
    "collapsed": true
   },
   "outputs": [],
   "source": [
    "import requests"
   ]
  },
  {
   "cell_type": "code",
   "execution_count": 2,
   "metadata": {
    "collapsed": false
   },
   "outputs": [],
   "source": [
    "import re"
   ]
  },
  {
   "cell_type": "code",
   "execution_count": 3,
   "metadata": {
    "collapsed": true
   },
   "outputs": [],
   "source": [
    "import csv"
   ]
  },
  {
   "cell_type": "code",
   "execution_count": 4,
   "metadata": {
    "collapsed": false
   },
   "outputs": [],
   "source": [
    "from bs4 import BeautifulSoup"
   ]
  },
  {
   "cell_type": "code",
   "execution_count": 15,
   "metadata": {
    "collapsed": true
   },
   "outputs": [],
   "source": [
    "urllist = list()"
   ]
  },
  {
   "cell_type": "code",
   "execution_count": 29,
   "metadata": {
    "collapsed": false
   },
   "outputs": [],
   "source": [
    "incre = 1\n",
    "with open(\"rank.csv\", 'w', newline='') as csvfile:\n",
    "    spamwriter = csv.writer(csvfile, delimiter=',')\n",
    "    for i in range(1,22):\n",
    "        params = {\"page\":i}\n",
    "        r = requests.get(\"http://www.zinch.cn/ss/us\",params = params)\n",
    "        soup = BeautifulSoup(r.text,\"html.parser\")\n",
    "        for tag in soup.find_all(\"h2\"):\n",
    "            if \"class\" in list(tag.attrs.keys()):\n",
    "                if \"properties-name-en\" in tag['class']:\n",
    "                    urllist.append(tag.findNext().attrs['href']);\n",
    "                    if tag.findNext().text.find('(') == -1:\n",
    "                        spamwriter.writerow([incre,tag.findNext().text])\n",
    "                    else:\n",
    "                        ind = tag.findNext().text.find('(')\n",
    "                        spamwriter.writerow([incre,tag.findNext().text[0:ind-1]])\n",
    "                    incre = incre+1\n",
    "                        "
   ]
  },
  {
   "cell_type": "code",
   "execution_count": 64,
   "metadata": {
    "collapsed": true
   },
   "outputs": [],
   "source": [
    "logolist = list()"
   ]
  },
  {
   "cell_type": "code",
   "execution_count": 40,
   "metadata": {
    "collapsed": false
   },
   "outputs": [],
   "source": [
    "from urllib.request import urlretrieve"
   ]
  },
  {
   "cell_type": "code",
   "execution_count": 65,
   "metadata": {
    "collapsed": false
   },
   "outputs": [],
   "source": [
    "for i in range(1,22):\n",
    "    params = {\"page\":i}\n",
    "    r = requests.get(\"http://www.zinch.cn/ss/us\",params = params)\n",
    "    soup = BeautifulSoup(r.text,\"html.parser\")\n",
    "    for tag in soup.find_all(\"img\"):\n",
    "        if \"class\" in list(tag.attrs.keys()):\n",
    "            if \"imagecache-75x75\" in tag['class']:\n",
    "                logolist.append(tag.attrs['src']);"
   ]
  },
  {
   "cell_type": "code",
   "execution_count": 81,
   "metadata": {
    "collapsed": false
   },
   "outputs": [],
   "source": [
    "## Crawling the school logo image\n",
    "for i in range(0,len(urllist)):\n",
    "    fileurl = \"./schoollogo/\"+urllist[i][1:]+\".jpg\"\n",
    "    urlretrieve(logolist[i],fileurl);"
   ]
  }
 ],
 "metadata": {
  "kernelspec": {
   "display_name": "Python 3",
   "language": "python",
   "name": "python3"
  },
  "language_info": {
   "codemirror_mode": {
    "name": "ipython",
    "version": 3
   },
   "file_extension": ".py",
   "mimetype": "text/x-python",
   "name": "python",
   "nbconvert_exporter": "python",
   "pygments_lexer": "ipython3",
   "version": "3.5.1"
  }
 },
 "nbformat": 4,
 "nbformat_minor": 0
}
